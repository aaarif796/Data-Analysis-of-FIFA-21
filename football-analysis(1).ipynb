{
 "cells": [
  {
   "cell_type": "markdown",
   "metadata": {},
   "source": [
    "# Football Analysis 2021\n",
    "\n"
   ]
  },
  {
   "attachments": {},
   "cell_type": "markdown",
   "metadata": {},
   "source": [
    "![](https://static1.srcdn.com/wordpress/wp-content/uploads/2020/08/FIFA-21-Removes-Celebrations-Shush-A-Ok.jpg)"
   ]
  },
  {
   "cell_type": "code",
   "execution_count": 75,
   "metadata": {},
   "outputs": [],
   "source": [
    "!pip install jovian --upgrade --quiet"
   ]
  },
  {
   "cell_type": "code",
   "execution_count": 10,
   "metadata": {},
   "outputs": [],
   "source": [
    "import jovian"
   ]
  },
  {
   "cell_type": "code",
   "execution_count": 11,
   "metadata": {},
   "outputs": [],
   "source": [
    "project_name='football-analysis'"
   ]
  },
  {
   "cell_type": "code",
   "execution_count": 30,
   "metadata": {},
   "outputs": [],
   "source": [
    "import numpy as np\n",
    "import pandas as pd\n",
    "import seaborn as sns\n",
    "import matplotlib\n",
    "import matplotlib.pyplot as plt\n",
    "%matplotlib inline\n",
    "\n",
    "sns.set_style('darkgrid')\n",
    "matplotlib.rcParams['font.size'] = 14\n",
    "matplotlib.rcParams['figure.figsize'] = (12, 6)\n",
    "matplotlib.rcParams['figure.facecolor'] = '#00000000'"
   ]
  },
  {
   "cell_type": "markdown",
   "metadata": {},
   "source": [
    "## Data Preparation\n",
    "Downloading datasets from Kaggle"
   ]
  },
  {
   "cell_type": "code",
   "execution_count": 13,
   "metadata": {},
   "outputs": [
    {
     "name": "stdout",
     "output_type": "stream",
     "text": [
      "Collecting opendatasets\n",
      "  Downloading opendatasets-0.1.11-py3-none-any.whl (14 kB)\n",
      "Requirement already satisfied: tqdm in /opt/conda/lib/python3.8/site-packages (from opendatasets) (4.50.2)\n",
      "Requirement already satisfied: click in /opt/conda/lib/python3.8/site-packages (from opendatasets) (7.1.2)\n",
      "Collecting kaggle\n",
      "  Downloading kaggle-1.5.12.tar.gz (58 kB)\n",
      "\u001b[K     |████████████████████████████████| 58 kB 4.4 MB/s eta 0:00:011\n",
      "\u001b[?25hRequirement already satisfied: six>=1.10 in /opt/conda/lib/python3.8/site-packages (from kaggle->opendatasets) (1.15.0)\n",
      "Requirement already satisfied: certifi in /opt/conda/lib/python3.8/site-packages (from kaggle->opendatasets) (2020.6.20)\n",
      "Requirement already satisfied: python-dateutil in /opt/conda/lib/python3.8/site-packages (from kaggle->opendatasets) (2.8.1)\n",
      "Requirement already satisfied: requests in /opt/conda/lib/python3.8/site-packages (from kaggle->opendatasets) (2.24.0)\n",
      "Collecting python-slugify\n",
      "  Downloading python_slugify-5.0.2-py2.py3-none-any.whl (6.7 kB)\n",
      "Requirement already satisfied: urllib3 in /opt/conda/lib/python3.8/site-packages (from kaggle->opendatasets) (1.25.11)\n",
      "Requirement already satisfied: idna<3,>=2.5 in /opt/conda/lib/python3.8/site-packages (from requests->kaggle->opendatasets) (2.10)\n",
      "Requirement already satisfied: chardet<4,>=3.0.2 in /opt/conda/lib/python3.8/site-packages (from requests->kaggle->opendatasets) (3.0.4)\n",
      "Collecting text-unidecode>=1.3\n",
      "  Downloading text_unidecode-1.3-py2.py3-none-any.whl (78 kB)\n",
      "\u001b[K     |████████████████████████████████| 78 kB 4.2 MB/s eta 0:00:011\n",
      "\u001b[?25hBuilding wheels for collected packages: kaggle\n",
      "  Building wheel for kaggle (setup.py) ... \u001b[?25ldone\n",
      "\u001b[?25h  Created wheel for kaggle: filename=kaggle-1.5.12-py3-none-any.whl size=73053 sha256=1f3e0e00daeb7fae654bd59adcbd7fa13243307d29a9c41a0a0e8fad43729869\n",
      "  Stored in directory: /home/jovyan/.cache/pip/wheels/29/da/11/144cc25aebdaeb4931b231e25fd34b394e6a5725cbb2f50106\n",
      "Successfully built kaggle\n",
      "Installing collected packages: text-unidecode, python-slugify, kaggle, opendatasets\n",
      "Successfully installed kaggle-1.5.12 opendatasets-0.1.11 python-slugify-5.0.2 text-unidecode-1.3\n",
      "Please provide your Kaggle credentials to download this dataset. Learn more: http://bit.ly/kaggle-creds\n",
      "Your Kaggle username: aarifansari\n",
      "Your Kaggle Key: ········\n"
     ]
    },
    {
     "name": "stderr",
     "output_type": "stream",
     "text": [
      "100%|██████████| 412k/412k [00:00<00:00, 19.8MB/s]"
     ]
    },
    {
     "name": "stdout",
     "output_type": "stream",
     "text": [
      "Downloading fifa-2021-complete-player-data.zip to ./fifa-2021-complete-player-data\n",
      "\n"
     ]
    },
    {
     "name": "stderr",
     "output_type": "stream",
     "text": [
      "\n"
     ]
    }
   ],
   "source": [
    "!pip install opendatasets\n",
    "import opendatasets as od\n",
    "od.download(\"https://www.kaggle.com/aayushmishra1512/fifa-2021-complete-player-data\")"
   ]
  },
  {
   "cell_type": "code",
   "execution_count": 14,
   "metadata": {},
   "outputs": [
    {
     "data": {
      "text/html": [
       "<div>\n",
       "<style scoped>\n",
       "    .dataframe tbody tr th:only-of-type {\n",
       "        vertical-align: middle;\n",
       "    }\n",
       "\n",
       "    .dataframe tbody tr th {\n",
       "        vertical-align: top;\n",
       "    }\n",
       "\n",
       "    .dataframe thead th {\n",
       "        text-align: right;\n",
       "    }\n",
       "</style>\n",
       "<table border=\"1\" class=\"dataframe\">\n",
       "  <thead>\n",
       "    <tr style=\"text-align: right;\">\n",
       "      <th></th>\n",
       "      <th>player_id</th>\n",
       "      <th>name</th>\n",
       "      <th>nationality</th>\n",
       "      <th>position</th>\n",
       "      <th>overall</th>\n",
       "      <th>age</th>\n",
       "      <th>hits</th>\n",
       "      <th>potential</th>\n",
       "      <th>team</th>\n",
       "    </tr>\n",
       "  </thead>\n",
       "  <tbody>\n",
       "    <tr>\n",
       "      <th>0</th>\n",
       "      <td>158023</td>\n",
       "      <td>Lionel Messi</td>\n",
       "      <td>Argentina</td>\n",
       "      <td>ST|CF|RW</td>\n",
       "      <td>94</td>\n",
       "      <td>33</td>\n",
       "      <td>299</td>\n",
       "      <td>94</td>\n",
       "      <td>FC Barcelona</td>\n",
       "    </tr>\n",
       "    <tr>\n",
       "      <th>1</th>\n",
       "      <td>20801</td>\n",
       "      <td>Cristiano Ronaldo</td>\n",
       "      <td>Portugal</td>\n",
       "      <td>ST|LW</td>\n",
       "      <td>93</td>\n",
       "      <td>35</td>\n",
       "      <td>276</td>\n",
       "      <td>93</td>\n",
       "      <td>Juventus</td>\n",
       "    </tr>\n",
       "    <tr>\n",
       "      <th>2</th>\n",
       "      <td>190871</td>\n",
       "      <td>Neymar Jr</td>\n",
       "      <td>Brazil</td>\n",
       "      <td>CAM|LW</td>\n",
       "      <td>92</td>\n",
       "      <td>28</td>\n",
       "      <td>186</td>\n",
       "      <td>92</td>\n",
       "      <td>Paris Saint-Germain</td>\n",
       "    </tr>\n",
       "    <tr>\n",
       "      <th>3</th>\n",
       "      <td>203376</td>\n",
       "      <td>Virgil van Dijk</td>\n",
       "      <td>Netherlands</td>\n",
       "      <td>CB</td>\n",
       "      <td>91</td>\n",
       "      <td>29</td>\n",
       "      <td>127</td>\n",
       "      <td>92</td>\n",
       "      <td>Liverpool</td>\n",
       "    </tr>\n",
       "    <tr>\n",
       "      <th>4</th>\n",
       "      <td>200389</td>\n",
       "      <td>Jan Oblak</td>\n",
       "      <td>Slovenia</td>\n",
       "      <td>GK</td>\n",
       "      <td>91</td>\n",
       "      <td>27</td>\n",
       "      <td>47</td>\n",
       "      <td>93</td>\n",
       "      <td>Atlético Madrid</td>\n",
       "    </tr>\n",
       "    <tr>\n",
       "      <th>...</th>\n",
       "      <td>...</td>\n",
       "      <td>...</td>\n",
       "      <td>...</td>\n",
       "      <td>...</td>\n",
       "      <td>...</td>\n",
       "      <td>...</td>\n",
       "      <td>...</td>\n",
       "      <td>...</td>\n",
       "      <td>...</td>\n",
       "    </tr>\n",
       "    <tr>\n",
       "      <th>17976</th>\n",
       "      <td>256093</td>\n",
       "      <td>Jaime Ortíz</td>\n",
       "      <td>Ecuador</td>\n",
       "      <td>ST</td>\n",
       "      <td>56</td>\n",
       "      <td>21</td>\n",
       "      <td>0</td>\n",
       "      <td>64</td>\n",
       "      <td>Sociedad Deportiva Aucas</td>\n",
       "    </tr>\n",
       "    <tr>\n",
       "      <th>17977</th>\n",
       "      <td>256088</td>\n",
       "      <td>Michael Carcelén</td>\n",
       "      <td>Ecuador</td>\n",
       "      <td>CM</td>\n",
       "      <td>56</td>\n",
       "      <td>23</td>\n",
       "      <td>0</td>\n",
       "      <td>64</td>\n",
       "      <td>Club Deportivo El Nacional</td>\n",
       "    </tr>\n",
       "    <tr>\n",
       "      <th>17978</th>\n",
       "      <td>256074</td>\n",
       "      <td>Davide Luzi</td>\n",
       "      <td>Venezuela</td>\n",
       "      <td>ST</td>\n",
       "      <td>56</td>\n",
       "      <td>18</td>\n",
       "      <td>1</td>\n",
       "      <td>68</td>\n",
       "      <td>Zamora Fútbol Club</td>\n",
       "    </tr>\n",
       "    <tr>\n",
       "      <th>17979</th>\n",
       "      <td>256073</td>\n",
       "      <td>Sergio Sulbarán</td>\n",
       "      <td>Venezuela</td>\n",
       "      <td>RW</td>\n",
       "      <td>56</td>\n",
       "      <td>22</td>\n",
       "      <td>0</td>\n",
       "      <td>62</td>\n",
       "      <td>Zamora Fútbol Club</td>\n",
       "    </tr>\n",
       "    <tr>\n",
       "      <th>17980</th>\n",
       "      <td>256072</td>\n",
       "      <td>Luis Peña</td>\n",
       "      <td>Venezuela</td>\n",
       "      <td>CM</td>\n",
       "      <td>56</td>\n",
       "      <td>18</td>\n",
       "      <td>0</td>\n",
       "      <td>69</td>\n",
       "      <td>Zamora Fútbol Club</td>\n",
       "    </tr>\n",
       "  </tbody>\n",
       "</table>\n",
       "<p>17981 rows × 9 columns</p>\n",
       "</div>"
      ],
      "text/plain": [
       "       player_id               name  nationality  position  overall  age  \\\n",
       "0         158023       Lionel Messi    Argentina  ST|CF|RW       94   33   \n",
       "1          20801  Cristiano Ronaldo     Portugal     ST|LW       93   35   \n",
       "2         190871          Neymar Jr       Brazil    CAM|LW       92   28   \n",
       "3         203376    Virgil van Dijk  Netherlands        CB       91   29   \n",
       "4         200389          Jan Oblak     Slovenia        GK       91   27   \n",
       "...          ...                ...          ...       ...      ...  ...   \n",
       "17976     256093        Jaime Ortíz      Ecuador        ST       56   21   \n",
       "17977     256088   Michael Carcelén      Ecuador        CM       56   23   \n",
       "17978     256074        Davide Luzi    Venezuela        ST       56   18   \n",
       "17979     256073    Sergio Sulbarán    Venezuela        RW       56   22   \n",
       "17980     256072          Luis Peña    Venezuela        CM       56   18   \n",
       "\n",
       "       hits  potential                         team  \n",
       "0       299         94                FC Barcelona   \n",
       "1       276         93                    Juventus   \n",
       "2       186         92         Paris Saint-Germain   \n",
       "3       127         92                   Liverpool   \n",
       "4        47         93             Atlético Madrid   \n",
       "...     ...        ...                          ...  \n",
       "17976     0         64    Sociedad Deportiva Aucas   \n",
       "17977     0         64  Club Deportivo El Nacional   \n",
       "17978     1         68          Zamora Fútbol Club   \n",
       "17979     0         62          Zamora Fútbol Club   \n",
       "17980     0         69          Zamora Fútbol Club   \n",
       "\n",
       "[17981 rows x 9 columns]"
      ]
     },
     "execution_count": 14,
     "metadata": {},
     "output_type": "execute_result"
    }
   ],
   "source": [
    "football_data=pd.read_csv('fifa-2021-complete-player-data/FIFA-21 Complete.csv',sep=';')\n",
    "football_data"
   ]
  },
  {
   "cell_type": "markdown",
   "metadata": {},
   "source": [
    "## Data Analysis and Visualization"
   ]
  },
  {
   "cell_type": "code",
   "execution_count": 15,
   "metadata": {},
   "outputs": [
    {
     "name": "stdout",
     "output_type": "stream",
     "text": [
      "<class 'pandas.core.frame.DataFrame'>\n",
      "RangeIndex: 17981 entries, 0 to 17980\n",
      "Data columns (total 9 columns):\n",
      " #   Column       Non-Null Count  Dtype \n",
      "---  ------       --------------  ----- \n",
      " 0   player_id    17981 non-null  int64 \n",
      " 1   name         17981 non-null  object\n",
      " 2   nationality  17981 non-null  object\n",
      " 3   position     17981 non-null  object\n",
      " 4   overall      17981 non-null  int64 \n",
      " 5   age          17981 non-null  int64 \n",
      " 6   hits         17981 non-null  int64 \n",
      " 7   potential    17981 non-null  int64 \n",
      " 8   team         17981 non-null  object\n",
      "dtypes: int64(5), object(4)\n",
      "memory usage: 1.2+ MB\n"
     ]
    }
   ],
   "source": [
    "football_data.info()"
   ]
  },
  {
   "cell_type": "markdown",
   "metadata": {},
   "source": [
    "Here, we can see columns and their datatypes and there are total 9 columns and 17981 rows that means there are 17981 player in the datasets.\n",
    "It's obtain by function `football_data.info()`"
   ]
  },
  {
   "cell_type": "code",
   "execution_count": 16,
   "metadata": {},
   "outputs": [
    {
     "data": {
      "text/html": [
       "<div>\n",
       "<style scoped>\n",
       "    .dataframe tbody tr th:only-of-type {\n",
       "        vertical-align: middle;\n",
       "    }\n",
       "\n",
       "    .dataframe tbody tr th {\n",
       "        vertical-align: top;\n",
       "    }\n",
       "\n",
       "    .dataframe thead th {\n",
       "        text-align: right;\n",
       "    }\n",
       "</style>\n",
       "<table border=\"1\" class=\"dataframe\">\n",
       "  <thead>\n",
       "    <tr style=\"text-align: right;\">\n",
       "      <th></th>\n",
       "      <th>player_id</th>\n",
       "      <th>overall</th>\n",
       "      <th>age</th>\n",
       "      <th>hits</th>\n",
       "      <th>potential</th>\n",
       "    </tr>\n",
       "  </thead>\n",
       "  <tbody>\n",
       "    <tr>\n",
       "      <th>count</th>\n",
       "      <td>17981.000000</td>\n",
       "      <td>17981.000000</td>\n",
       "      <td>17981.000000</td>\n",
       "      <td>17981.000000</td>\n",
       "      <td>17981.000000</td>\n",
       "    </tr>\n",
       "    <tr>\n",
       "      <th>mean</th>\n",
       "      <td>220912.660531</td>\n",
       "      <td>67.274345</td>\n",
       "      <td>26.311440</td>\n",
       "      <td>2.689450</td>\n",
       "      <td>71.738057</td>\n",
       "    </tr>\n",
       "    <tr>\n",
       "      <th>std</th>\n",
       "      <td>27738.072671</td>\n",
       "      <td>5.924392</td>\n",
       "      <td>4.556077</td>\n",
       "      <td>10.846286</td>\n",
       "      <td>5.961968</td>\n",
       "    </tr>\n",
       "    <tr>\n",
       "      <th>min</th>\n",
       "      <td>41.000000</td>\n",
       "      <td>56.000000</td>\n",
       "      <td>17.000000</td>\n",
       "      <td>0.000000</td>\n",
       "      <td>57.000000</td>\n",
       "    </tr>\n",
       "    <tr>\n",
       "      <th>25%</th>\n",
       "      <td>204881.000000</td>\n",
       "      <td>63.000000</td>\n",
       "      <td>23.000000</td>\n",
       "      <td>0.000000</td>\n",
       "      <td>67.000000</td>\n",
       "    </tr>\n",
       "    <tr>\n",
       "      <th>50%</th>\n",
       "      <td>226753.000000</td>\n",
       "      <td>67.000000</td>\n",
       "      <td>26.000000</td>\n",
       "      <td>0.000000</td>\n",
       "      <td>71.000000</td>\n",
       "    </tr>\n",
       "    <tr>\n",
       "      <th>75%</th>\n",
       "      <td>241587.000000</td>\n",
       "      <td>71.000000</td>\n",
       "      <td>30.000000</td>\n",
       "      <td>2.000000</td>\n",
       "      <td>76.000000</td>\n",
       "    </tr>\n",
       "    <tr>\n",
       "      <th>max</th>\n",
       "      <td>256469.000000</td>\n",
       "      <td>94.000000</td>\n",
       "      <td>43.000000</td>\n",
       "      <td>371.000000</td>\n",
       "      <td>95.000000</td>\n",
       "    </tr>\n",
       "  </tbody>\n",
       "</table>\n",
       "</div>"
      ],
      "text/plain": [
       "           player_id       overall           age          hits     potential\n",
       "count   17981.000000  17981.000000  17981.000000  17981.000000  17981.000000\n",
       "mean   220912.660531     67.274345     26.311440      2.689450     71.738057\n",
       "std     27738.072671      5.924392      4.556077     10.846286      5.961968\n",
       "min        41.000000     56.000000     17.000000      0.000000     57.000000\n",
       "25%    204881.000000     63.000000     23.000000      0.000000     67.000000\n",
       "50%    226753.000000     67.000000     26.000000      0.000000     71.000000\n",
       "75%    241587.000000     71.000000     30.000000      2.000000     76.000000\n",
       "max    256469.000000     94.000000     43.000000    371.000000     95.000000"
      ]
     },
     "execution_count": 16,
     "metadata": {},
     "output_type": "execute_result"
    }
   ],
   "source": [
    "football_data.describe()"
   ]
  },
  {
   "cell_type": "markdown",
   "metadata": {},
   "source": [
    "## Q1. What is the average age of the player in the FIFA21?\n",
    "From the above data the average height of player of FIFA21 is 26."
   ]
  },
  {
   "cell_type": "markdown",
   "metadata": {},
   "source": [
    "## Q2. List out the top ten country having highest number of player in FIFA21?"
   ]
  },
  {
   "cell_type": "code",
   "execution_count": 17,
   "metadata": {},
   "outputs": [],
   "source": [
    "coun=football_data.groupby('nationality')['player_id'].count()"
   ]
  },
  {
   "cell_type": "code",
   "execution_count": 18,
   "metadata": {},
   "outputs": [
    {
     "data": {
      "text/plain": [
       "nationality\n",
       "England        1496\n",
       "Germany        1138\n",
       "Spain          1055\n",
       "Argentina       970\n",
       "France          948\n",
       "Brazil          894\n",
       "Italy           637\n",
       "Colombia        561\n",
       "Japan           448\n",
       "Netherlands     418\n",
       "Name: player_id, dtype: int64"
      ]
     },
     "execution_count": 18,
     "metadata": {},
     "output_type": "execute_result"
    }
   ],
   "source": [
    "coun=coun.sort_values(ascending=False).head(10)\n",
    "coun"
   ]
  },
  {
   "cell_type": "code",
   "execution_count": 22,
   "metadata": {},
   "outputs": [
    {
     "data": {
      "image/png": "[encoded data removed]",
      "text/plain": [
       "<Figure size 864x432 with 1 Axes>"
      ]
     },
     "metadata": {
      "needs_background": "light"
     },
     "output_type": "display_data"
    }
   ],
   "source": [
    "plt.xlabel('Name of Country')\n",
    "plt.ylabel('Number of Players')\n",
    "plt.title('List of the country with higher player in the World')\n",
    "plt.bar(coun.index,coun,color='red');"
   ]
  },
  {
   "cell_type": "markdown",
   "metadata": {},
   "source": [
    "In the above figure and data top 10 country player are present in which highest number of players are from England, Germany, Spain and so on as shown in above data and bar diagram."
   ]
  },
  {
   "cell_type": "markdown",
   "metadata": {},
   "source": [
    "## Q3. How many total number of goalkeeper are in FIFA21 datasets? Who is the number one goalkeeper from which country and which club? "
   ]
  },
  {
   "cell_type": "code",
   "execution_count": 23,
   "metadata": {},
   "outputs": [],
   "source": [
    "gk=football_data.where(football_data['position']=='GK').sort_values('overall',ascending=False)"
   ]
  },
  {
   "cell_type": "code",
   "execution_count": 24,
   "metadata": {},
   "outputs": [
    {
     "data": {
      "text/html": [
       "<div>\n",
       "<style scoped>\n",
       "    .dataframe tbody tr th:only-of-type {\n",
       "        vertical-align: middle;\n",
       "    }\n",
       "\n",
       "    .dataframe tbody tr th {\n",
       "        vertical-align: top;\n",
       "    }\n",
       "\n",
       "    .dataframe thead th {\n",
       "        text-align: right;\n",
       "    }\n",
       "</style>\n",
       "<table border=\"1\" class=\"dataframe\">\n",
       "  <thead>\n",
       "    <tr style=\"text-align: right;\">\n",
       "      <th></th>\n",
       "      <th>player_id</th>\n",
       "      <th>name</th>\n",
       "      <th>nationality</th>\n",
       "      <th>position</th>\n",
       "      <th>overall</th>\n",
       "      <th>age</th>\n",
       "      <th>hits</th>\n",
       "      <th>potential</th>\n",
       "      <th>team</th>\n",
       "    </tr>\n",
       "  </thead>\n",
       "  <tbody>\n",
       "    <tr>\n",
       "      <th>4</th>\n",
       "      <td>200389.0</td>\n",
       "      <td>Jan Oblak</td>\n",
       "      <td>Slovenia</td>\n",
       "      <td>GK</td>\n",
       "      <td>91.0</td>\n",
       "      <td>27.0</td>\n",
       "      <td>47.0</td>\n",
       "      <td>93.0</td>\n",
       "      <td>Atlético Madrid</td>\n",
       "    </tr>\n",
       "    <tr>\n",
       "      <th>11</th>\n",
       "      <td>192448.0</td>\n",
       "      <td>Marc-André ter Stegen</td>\n",
       "      <td>Germany</td>\n",
       "      <td>GK</td>\n",
       "      <td>90.0</td>\n",
       "      <td>28.0</td>\n",
       "      <td>68.0</td>\n",
       "      <td>93.0</td>\n",
       "      <td>FC Barcelona</td>\n",
       "    </tr>\n",
       "    <tr>\n",
       "      <th>8</th>\n",
       "      <td>212831.0</td>\n",
       "      <td>Alisson</td>\n",
       "      <td>Brazil</td>\n",
       "      <td>GK</td>\n",
       "      <td>90.0</td>\n",
       "      <td>27.0</td>\n",
       "      <td>53.0</td>\n",
       "      <td>91.0</td>\n",
       "      <td>Liverpool</td>\n",
       "    </tr>\n",
       "    <tr>\n",
       "      <th>20</th>\n",
       "      <td>167495.0</td>\n",
       "      <td>Manuel Neuer</td>\n",
       "      <td>Germany</td>\n",
       "      <td>GK</td>\n",
       "      <td>89.0</td>\n",
       "      <td>34.0</td>\n",
       "      <td>42.0</td>\n",
       "      <td>89.0</td>\n",
       "      <td>FC Bayern München</td>\n",
       "    </tr>\n",
       "    <tr>\n",
       "      <th>22</th>\n",
       "      <td>210257.0</td>\n",
       "      <td>Ederson</td>\n",
       "      <td>Brazil</td>\n",
       "      <td>GK</td>\n",
       "      <td>88.0</td>\n",
       "      <td>26.0</td>\n",
       "      <td>40.0</td>\n",
       "      <td>91.0</td>\n",
       "      <td>Manchester City</td>\n",
       "    </tr>\n",
       "    <tr>\n",
       "      <th>...</th>\n",
       "      <td>...</td>\n",
       "      <td>...</td>\n",
       "      <td>...</td>\n",
       "      <td>...</td>\n",
       "      <td>...</td>\n",
       "      <td>...</td>\n",
       "      <td>...</td>\n",
       "      <td>...</td>\n",
       "      <td>...</td>\n",
       "    </tr>\n",
       "    <tr>\n",
       "      <th>17663</th>\n",
       "      <td>251369.0</td>\n",
       "      <td>Ouparine Djoco</td>\n",
       "      <td>France</td>\n",
       "      <td>GK</td>\n",
       "      <td>57.0</td>\n",
       "      <td>22.0</td>\n",
       "      <td>1.0</td>\n",
       "      <td>67.0</td>\n",
       "      <td>Clermont Foot 63</td>\n",
       "    </tr>\n",
       "    <tr>\n",
       "      <th>17659</th>\n",
       "      <td>251520.0</td>\n",
       "      <td>Iano? Brînza</td>\n",
       "      <td>Moldova</td>\n",
       "      <td>GK</td>\n",
       "      <td>57.0</td>\n",
       "      <td>21.0</td>\n",
       "      <td>0.0</td>\n",
       "      <td>69.0</td>\n",
       "      <td>Fotbal Club Boto?ani</td>\n",
       "    </tr>\n",
       "    <tr>\n",
       "      <th>17654</th>\n",
       "      <td>251837.0</td>\n",
       "      <td>Omar Rodríguez</td>\n",
       "      <td>Colombia</td>\n",
       "      <td>GK</td>\n",
       "      <td>57.0</td>\n",
       "      <td>23.0</td>\n",
       "      <td>0.0</td>\n",
       "      <td>65.0</td>\n",
       "      <td>Independiente Santa Fe</td>\n",
       "    </tr>\n",
       "    <tr>\n",
       "      <th>17964</th>\n",
       "      <td>256445.0</td>\n",
       "      <td>Ruvira</td>\n",
       "      <td>Spain</td>\n",
       "      <td>GK</td>\n",
       "      <td>56.0</td>\n",
       "      <td>20.0</td>\n",
       "      <td>0.0</td>\n",
       "      <td>70.0</td>\n",
       "      <td>CF Fuenlabrada</td>\n",
       "    </tr>\n",
       "    <tr>\n",
       "      <th>17965</th>\n",
       "      <td>256436.0</td>\n",
       "      <td>Erland Tangvik</td>\n",
       "      <td>Norway</td>\n",
       "      <td>GK</td>\n",
       "      <td>56.0</td>\n",
       "      <td>23.0</td>\n",
       "      <td>0.0</td>\n",
       "      <td>63.0</td>\n",
       "      <td>Djurgårdens IF</td>\n",
       "    </tr>\n",
       "  </tbody>\n",
       "</table>\n",
       "<p>1884 rows × 9 columns</p>\n",
       "</div>"
      ],
      "text/plain": [
       "       player_id                   name nationality position  overall   age  \\\n",
       "4       200389.0              Jan Oblak    Slovenia       GK     91.0  27.0   \n",
       "11      192448.0  Marc-André ter Stegen     Germany       GK     90.0  28.0   \n",
       "8       212831.0                Alisson      Brazil       GK     90.0  27.0   \n",
       "20      167495.0           Manuel Neuer     Germany       GK     89.0  34.0   \n",
       "22      210257.0                Ederson      Brazil       GK     88.0  26.0   \n",
       "...          ...                    ...         ...      ...      ...   ...   \n",
       "17663   251369.0         Ouparine Djoco      France       GK     57.0  22.0   \n",
       "17659   251520.0           Iano? Brînza     Moldova       GK     57.0  21.0   \n",
       "17654   251837.0         Omar Rodríguez    Colombia       GK     57.0  23.0   \n",
       "17964   256445.0                 Ruvira       Spain       GK     56.0  20.0   \n",
       "17965   256436.0         Erland Tangvik      Norway       GK     56.0  23.0   \n",
       "\n",
       "       hits  potential                     team  \n",
       "4      47.0       93.0         Atlético Madrid   \n",
       "11     68.0       93.0            FC Barcelona   \n",
       "8      53.0       91.0               Liverpool   \n",
       "20     42.0       89.0       FC Bayern München   \n",
       "22     40.0       91.0         Manchester City   \n",
       "...     ...        ...                      ...  \n",
       "17663   1.0       67.0        Clermont Foot 63   \n",
       "17659   0.0       69.0    Fotbal Club Boto?ani   \n",
       "17654   0.0       65.0  Independiente Santa Fe   \n",
       "17964   0.0       70.0          CF Fuenlabrada   \n",
       "17965   0.0       63.0          Djurgårdens IF   \n",
       "\n",
       "[1884 rows x 9 columns]"
      ]
     },
     "execution_count": 24,
     "metadata": {},
     "output_type": "execute_result"
    }
   ],
   "source": [
    "gk.dropna(axis=0)"
   ]
  },
  {
   "attachments": {},
   "cell_type": "markdown",
   "metadata": {},
   "source": [
    "![](https://www.trikot-deal.de/wp-content/uploads/2018/04/PXVUF8_tn7I.jpg)"
   ]
  },
  {
   "cell_type": "markdown",
   "metadata": {},
   "source": [
    "From the above datasets, Since there are 1884 rows so there are 1884 goalkeeper and `Jan Oblak` is the number one goalkeeper of FIFA21. He belongs to Slovenia country and he play with Atletico Madrid club. His overall perfomance is 91 which is the highest in the datasets."
   ]
  },
  {
   "cell_type": "markdown",
   "metadata": {},
   "source": [
    "## Q4. Which team is the strongest in this datasets on the basis of overall performance?"
   ]
  },
  {
   "cell_type": "code",
   "execution_count": 76,
   "metadata": {},
   "outputs": [
    {
     "data": {
      "text/plain": [
       "team\n",
       "Free Agents           14664\n",
       "Real Madrid            2627\n",
       "FC Barcelona           2577\n",
       "Liverpool              2523\n",
       "Atlético Madrid        2522\n",
       "Manchester United      2509\n",
       "River Plate            2509\n",
       "Valencia CF            2500\n",
       "Manchester City        2460\n",
       "Tottenham Hotspur      2455\n",
       "Name: overall, dtype: int64"
      ]
     },
     "execution_count": 76,
     "metadata": {},
     "output_type": "execute_result"
    }
   ],
   "source": [
    "teamm=football_data.groupby('team')['overall'].sum().sort_values(ascending=False).head(10)\n",
    "teamm"
   ]
  },
  {
   "cell_type": "code",
   "execution_count": 77,
   "metadata": {},
   "outputs": [
    {
     "data": {
      "image/png": "[encoded data removed]",
      "text/plain": [
       "<Figure size 1440x864 with 1 Axes>"
      ]
     },
     "metadata": {},
     "output_type": "display_data"
    }
   ],
   "source": [
    "plt.figure(figsize=(20,12))\n",
    "plt.title('Streangth of top ten Team')\n",
    "plt.pie(teamm[1:], labels=teamm[1:].index, autopct='%1.1f%%', startangle=180);"
   ]
  },
  {
   "attachments": {},
   "cell_type": "markdown",
   "metadata": {},
   "source": [
    "![](https://i.brecorder.com/wp-content/uploads/2017/05/real-madrid-logo-1024.jpg)"
   ]
  },
  {
   "cell_type": "markdown",
   "metadata": {},
   "source": [
    "There are 713 rows in the table which means there are `712` teams because `1` extra is free agents which have `14664` players. On the basis of overall perfomance, `Real Madrid` is the strongest team and `FC Barcelona` is behind the Real Madrid."
   ]
  },
  {
   "cell_type": "markdown",
   "metadata": {},
   "source": [
    "## Q5. Who is the youngest and oldest player in the FIFA21?"
   ]
  },
  {
   "cell_type": "code",
   "execution_count": 26,
   "metadata": {},
   "outputs": [
    {
     "data": {
      "text/html": [
       "<div>\n",
       "<style scoped>\n",
       "    .dataframe tbody tr th:only-of-type {\n",
       "        vertical-align: middle;\n",
       "    }\n",
       "\n",
       "    .dataframe tbody tr th {\n",
       "        vertical-align: top;\n",
       "    }\n",
       "\n",
       "    .dataframe thead th {\n",
       "        text-align: right;\n",
       "    }\n",
       "</style>\n",
       "<table border=\"1\" class=\"dataframe\">\n",
       "  <thead>\n",
       "    <tr style=\"text-align: right;\">\n",
       "      <th></th>\n",
       "      <th>player_id</th>\n",
       "      <th>name</th>\n",
       "      <th>nationality</th>\n",
       "      <th>position</th>\n",
       "      <th>overall</th>\n",
       "      <th>age</th>\n",
       "      <th>hits</th>\n",
       "      <th>potential</th>\n",
       "      <th>team</th>\n",
       "    </tr>\n",
       "  </thead>\n",
       "  <tbody>\n",
       "    <tr>\n",
       "      <th>1637</th>\n",
       "      <td>248243</td>\n",
       "      <td>Eduardo Camavinga</td>\n",
       "      <td>France</td>\n",
       "      <td>CM</td>\n",
       "      <td>75</td>\n",
       "      <td>17</td>\n",
       "      <td>94</td>\n",
       "      <td>86</td>\n",
       "      <td>Stade Rennais FC</td>\n",
       "    </tr>\n",
       "    <tr>\n",
       "      <th>15008</th>\n",
       "      <td>253028</td>\n",
       "      <td>Gabriele Plechero</td>\n",
       "      <td>Italy</td>\n",
       "      <td>GK</td>\n",
       "      <td>61</td>\n",
       "      <td>17</td>\n",
       "      <td>1</td>\n",
       "      <td>79</td>\n",
       "      <td>Cittadella</td>\n",
       "    </tr>\n",
       "    <tr>\n",
       "      <th>14915</th>\n",
       "      <td>255339</td>\n",
       "      <td>Jayden Nelson</td>\n",
       "      <td>Canada</td>\n",
       "      <td>LM|LW</td>\n",
       "      <td>61</td>\n",
       "      <td>17</td>\n",
       "      <td>2</td>\n",
       "      <td>76</td>\n",
       "      <td>Toronto FC</td>\n",
       "    </tr>\n",
       "    <tr>\n",
       "      <th>17075</th>\n",
       "      <td>253971</td>\n",
       "      <td>Tom Dickson-Peters</td>\n",
       "      <td>Scotland</td>\n",
       "      <td>ST</td>\n",
       "      <td>58</td>\n",
       "      <td>17</td>\n",
       "      <td>0</td>\n",
       "      <td>73</td>\n",
       "      <td>Norwich City</td>\n",
       "    </tr>\n",
       "    <tr>\n",
       "      <th>17066</th>\n",
       "      <td>254580</td>\n",
       "      <td>Elias Damergy</td>\n",
       "      <td>Tunisia</td>\n",
       "      <td>GK</td>\n",
       "      <td>58</td>\n",
       "      <td>17</td>\n",
       "      <td>0</td>\n",
       "      <td>71</td>\n",
       "      <td>Stade Rennais FC</td>\n",
       "    </tr>\n",
       "    <tr>\n",
       "      <th>...</th>\n",
       "      <td>...</td>\n",
       "      <td>...</td>\n",
       "      <td>...</td>\n",
       "      <td>...</td>\n",
       "      <td>...</td>\n",
       "      <td>...</td>\n",
       "      <td>...</td>\n",
       "      <td>...</td>\n",
       "      <td>...</td>\n",
       "    </tr>\n",
       "    <tr>\n",
       "      <th>222</th>\n",
       "      <td>1179</td>\n",
       "      <td>Gianluigi Buffon</td>\n",
       "      <td>Italy</td>\n",
       "      <td>GK</td>\n",
       "      <td>83</td>\n",
       "      <td>42</td>\n",
       "      <td>50</td>\n",
       "      <td>83</td>\n",
       "      <td>Juventus</td>\n",
       "    </tr>\n",
       "    <tr>\n",
       "      <th>14977</th>\n",
       "      <td>254196</td>\n",
       "      <td>Luis Fernando Fernández</td>\n",
       "      <td>Colombia</td>\n",
       "      <td>GK</td>\n",
       "      <td>61</td>\n",
       "      <td>42</td>\n",
       "      <td>0</td>\n",
       "      <td>61</td>\n",
       "      <td>Sociedad Deportiva Aucas</td>\n",
       "    </tr>\n",
       "    <tr>\n",
       "      <th>4150</th>\n",
       "      <td>156483</td>\n",
       "      <td>Cristian Lucchetti</td>\n",
       "      <td>Argentina</td>\n",
       "      <td>GK</td>\n",
       "      <td>72</td>\n",
       "      <td>42</td>\n",
       "      <td>0</td>\n",
       "      <td>72</td>\n",
       "      <td>Atlético Tucumán</td>\n",
       "    </tr>\n",
       "    <tr>\n",
       "      <th>13767</th>\n",
       "      <td>208927</td>\n",
       "      <td>Hussain Omar Sulaimani</td>\n",
       "      <td>Saudi Arabia</td>\n",
       "      <td>LB</td>\n",
       "      <td>63</td>\n",
       "      <td>43</td>\n",
       "      <td>1</td>\n",
       "      <td>63</td>\n",
       "      <td>Al Ahli</td>\n",
       "    </tr>\n",
       "    <tr>\n",
       "      <th>12887</th>\n",
       "      <td>169108</td>\n",
       "      <td>Leao Butrón</td>\n",
       "      <td>Peru</td>\n",
       "      <td>GK</td>\n",
       "      <td>64</td>\n",
       "      <td>43</td>\n",
       "      <td>0</td>\n",
       "      <td>64</td>\n",
       "      <td>Club Alianza Lima</td>\n",
       "    </tr>\n",
       "  </tbody>\n",
       "</table>\n",
       "<p>17981 rows × 9 columns</p>\n",
       "</div>"
      ],
      "text/plain": [
       "       player_id                     name   nationality position  overall  \\\n",
       "1637      248243        Eduardo Camavinga        France       CM       75   \n",
       "15008     253028        Gabriele Plechero         Italy       GK       61   \n",
       "14915     255339            Jayden Nelson        Canada    LM|LW       61   \n",
       "17075     253971       Tom Dickson-Peters      Scotland       ST       58   \n",
       "17066     254580            Elias Damergy       Tunisia       GK       58   \n",
       "...          ...                      ...           ...      ...      ...   \n",
       "222         1179         Gianluigi Buffon         Italy       GK       83   \n",
       "14977     254196  Luis Fernando Fernández      Colombia       GK       61   \n",
       "4150      156483       Cristian Lucchetti     Argentina       GK       72   \n",
       "13767     208927   Hussain Omar Sulaimani  Saudi Arabia       LB       63   \n",
       "12887     169108              Leao Butrón          Peru       GK       64   \n",
       "\n",
       "       age  hits  potential                       team  \n",
       "1637    17    94         86          Stade Rennais FC   \n",
       "15008   17     1         79                Cittadella   \n",
       "14915   17     2         76                Toronto FC   \n",
       "17075   17     0         73              Norwich City   \n",
       "17066   17     0         71          Stade Rennais FC   \n",
       "...    ...   ...        ...                        ...  \n",
       "222     42    50         83                  Juventus   \n",
       "14977   42     0         61  Sociedad Deportiva Aucas   \n",
       "4150    42     0         72          Atlético Tucumán   \n",
       "13767   43     1         63                   Al Ahli   \n",
       "12887   43     0         64         Club Alianza Lima   \n",
       "\n",
       "[17981 rows x 9 columns]"
      ]
     },
     "execution_count": 26,
     "metadata": {},
     "output_type": "execute_result"
    }
   ],
   "source": [
    "youngest=football_data.sort_values('age',ascending=True)\n",
    "youngest"
   ]
  },
  {
   "cell_type": "code",
   "execution_count": 27,
   "metadata": {},
   "outputs": [
    {
     "data": {
      "text/html": [
       "<div>\n",
       "<style scoped>\n",
       "    .dataframe tbody tr th:only-of-type {\n",
       "        vertical-align: middle;\n",
       "    }\n",
       "\n",
       "    .dataframe tbody tr th {\n",
       "        vertical-align: top;\n",
       "    }\n",
       "\n",
       "    .dataframe thead th {\n",
       "        text-align: right;\n",
       "    }\n",
       "</style>\n",
       "<table border=\"1\" class=\"dataframe\">\n",
       "  <thead>\n",
       "    <tr style=\"text-align: right;\">\n",
       "      <th></th>\n",
       "      <th>player_id</th>\n",
       "      <th>name</th>\n",
       "      <th>nationality</th>\n",
       "      <th>position</th>\n",
       "      <th>overall</th>\n",
       "      <th>age</th>\n",
       "      <th>hits</th>\n",
       "      <th>potential</th>\n",
       "      <th>team</th>\n",
       "    </tr>\n",
       "  </thead>\n",
       "  <tbody>\n",
       "    <tr>\n",
       "      <th>13767</th>\n",
       "      <td>208927</td>\n",
       "      <td>Hussain Omar Sulaimani</td>\n",
       "      <td>Saudi Arabia</td>\n",
       "      <td>LB</td>\n",
       "      <td>63</td>\n",
       "      <td>43</td>\n",
       "      <td>1</td>\n",
       "      <td>63</td>\n",
       "      <td>Al Ahli</td>\n",
       "    </tr>\n",
       "    <tr>\n",
       "      <th>12887</th>\n",
       "      <td>169108</td>\n",
       "      <td>Leao Butrón</td>\n",
       "      <td>Peru</td>\n",
       "      <td>GK</td>\n",
       "      <td>64</td>\n",
       "      <td>43</td>\n",
       "      <td>0</td>\n",
       "      <td>64</td>\n",
       "      <td>Club Alianza Lima</td>\n",
       "    </tr>\n",
       "    <tr>\n",
       "      <th>14977</th>\n",
       "      <td>254196</td>\n",
       "      <td>Luis Fernando Fernández</td>\n",
       "      <td>Colombia</td>\n",
       "      <td>GK</td>\n",
       "      <td>61</td>\n",
       "      <td>42</td>\n",
       "      <td>0</td>\n",
       "      <td>61</td>\n",
       "      <td>Sociedad Deportiva Aucas</td>\n",
       "    </tr>\n",
       "    <tr>\n",
       "      <th>222</th>\n",
       "      <td>1179</td>\n",
       "      <td>Gianluigi Buffon</td>\n",
       "      <td>Italy</td>\n",
       "      <td>GK</td>\n",
       "      <td>83</td>\n",
       "      <td>42</td>\n",
       "      <td>50</td>\n",
       "      <td>83</td>\n",
       "      <td>Juventus</td>\n",
       "    </tr>\n",
       "    <tr>\n",
       "      <th>726</th>\n",
       "      <td>153260</td>\n",
       "      <td>Hilton</td>\n",
       "      <td>Brazil</td>\n",
       "      <td>CB</td>\n",
       "      <td>79</td>\n",
       "      <td>42</td>\n",
       "      <td>6</td>\n",
       "      <td>79</td>\n",
       "      <td>Montpellier Hérault SC</td>\n",
       "    </tr>\n",
       "    <tr>\n",
       "      <th>...</th>\n",
       "      <td>...</td>\n",
       "      <td>...</td>\n",
       "      <td>...</td>\n",
       "      <td>...</td>\n",
       "      <td>...</td>\n",
       "      <td>...</td>\n",
       "      <td>...</td>\n",
       "      <td>...</td>\n",
       "      <td>...</td>\n",
       "    </tr>\n",
       "    <tr>\n",
       "      <th>14994</th>\n",
       "      <td>253715</td>\n",
       "      <td>Darío Sarmiento</td>\n",
       "      <td>Argentina</td>\n",
       "      <td>LW</td>\n",
       "      <td>61</td>\n",
       "      <td>17</td>\n",
       "      <td>1</td>\n",
       "      <td>80</td>\n",
       "      <td>Estudiantes de La Plata</td>\n",
       "    </tr>\n",
       "    <tr>\n",
       "      <th>14976</th>\n",
       "      <td>254246</td>\n",
       "      <td>Damian Rivera</td>\n",
       "      <td>United States</td>\n",
       "      <td>LW</td>\n",
       "      <td>61</td>\n",
       "      <td>17</td>\n",
       "      <td>4</td>\n",
       "      <td>76</td>\n",
       "      <td>New England Revolution</td>\n",
       "    </tr>\n",
       "    <tr>\n",
       "      <th>16985</th>\n",
       "      <td>256307</td>\n",
       "      <td>Luca Oyen</td>\n",
       "      <td>Belgium</td>\n",
       "      <td>ST|CM|CAM</td>\n",
       "      <td>58</td>\n",
       "      <td>17</td>\n",
       "      <td>1</td>\n",
       "      <td>77</td>\n",
       "      <td>KRC Genk</td>\n",
       "    </tr>\n",
       "    <tr>\n",
       "      <th>3366</th>\n",
       "      <td>251854</td>\n",
       "      <td>Pedri</td>\n",
       "      <td>Spain</td>\n",
       "      <td>LM|CAM</td>\n",
       "      <td>72</td>\n",
       "      <td>17</td>\n",
       "      <td>54</td>\n",
       "      <td>89</td>\n",
       "      <td>UD Las Palmas</td>\n",
       "    </tr>\n",
       "    <tr>\n",
       "      <th>15911</th>\n",
       "      <td>247388</td>\n",
       "      <td>Aleksander Buksa</td>\n",
       "      <td>Poland</td>\n",
       "      <td>ST</td>\n",
       "      <td>60</td>\n",
       "      <td>17</td>\n",
       "      <td>1</td>\n",
       "      <td>77</td>\n",
       "      <td>Wisla Kraków</td>\n",
       "    </tr>\n",
       "  </tbody>\n",
       "</table>\n",
       "<p>17981 rows × 9 columns</p>\n",
       "</div>"
      ],
      "text/plain": [
       "       player_id                     name    nationality   position  overall  \\\n",
       "13767     208927   Hussain Omar Sulaimani   Saudi Arabia         LB       63   \n",
       "12887     169108              Leao Butrón           Peru         GK       64   \n",
       "14977     254196  Luis Fernando Fernández       Colombia         GK       61   \n",
       "222         1179         Gianluigi Buffon          Italy         GK       83   \n",
       "726       153260                   Hilton         Brazil         CB       79   \n",
       "...          ...                      ...            ...        ...      ...   \n",
       "14994     253715          Darío Sarmiento      Argentina         LW       61   \n",
       "14976     254246            Damian Rivera  United States         LW       61   \n",
       "16985     256307                Luca Oyen        Belgium  ST|CM|CAM       58   \n",
       "3366      251854                    Pedri          Spain     LM|CAM       72   \n",
       "15911     247388         Aleksander Buksa         Poland         ST       60   \n",
       "\n",
       "       age  hits  potential                       team  \n",
       "13767   43     1         63                   Al Ahli   \n",
       "12887   43     0         64         Club Alianza Lima   \n",
       "14977   42     0         61  Sociedad Deportiva Aucas   \n",
       "222     42    50         83                  Juventus   \n",
       "726     42     6         79    Montpellier Hérault SC   \n",
       "...    ...   ...        ...                        ...  \n",
       "14994   17     1         80   Estudiantes de La Plata   \n",
       "14976   17     4         76    New England Revolution   \n",
       "16985   17     1         77                  KRC Genk   \n",
       "3366    17    54         89             UD Las Palmas   \n",
       "15911   17     1         77              Wisla Kraków   \n",
       "\n",
       "[17981 rows x 9 columns]"
      ]
     },
     "execution_count": 27,
     "metadata": {},
     "output_type": "execute_result"
    }
   ],
   "source": [
    "oldest=football_data.sort_values('age',ascending=False)\n",
    "oldest"
   ]
  },
  {
   "cell_type": "code",
   "execution_count": 39,
   "metadata": {},
   "outputs": [
    {
     "data": {
      "image/png": "[encoded data removed]",
      "text/plain": [
       "<Figure size 864x432 with 1 Axes>"
      ]
     },
     "metadata": {
      "needs_background": "light"
     },
     "output_type": "display_data"
    }
   ],
   "source": [
    "plt.title('Age of the players')\n",
    "plt.xlabel('Age')\n",
    "plt.ylabel('Number of players on that age')\n",
    "\n",
    "plt.hist(football_data.age, bins=np.arange(16,45,1), color='purple');"
   ]
  },
  {
   "cell_type": "markdown",
   "metadata": {},
   "source": [
    "`Eduardo Camavinga` is the youngest player of FIFA21 and many more are there at the age of `17` from France.\n",
    "`Hussain Omar Sulaimani` and `Leao Butrón` are two oldest player of dataset FIFA21 at the age of `43` from `Saudi Arabia` and `Peru`. From the above figure it is clear that highest number of player is of `24` to `25` age group in FIFA21. "
   ]
  },
  {
   "cell_type": "markdown",
   "metadata": {},
   "source": [
    "## Q6. Compare the team between Real Madrid and FC Barcelona?\n"
   ]
  },
  {
   "cell_type": "code",
   "execution_count": 40,
   "metadata": {},
   "outputs": [],
   "source": [
    "fcbarcelona=football_data.where(football_data['team']=='FC Barcelona ')\n",
    "fcbarcelona=fcbarcelona.dropna(axis=0)"
   ]
  },
  {
   "cell_type": "code",
   "execution_count": 41,
   "metadata": {},
   "outputs": [],
   "source": [
    "realmadrid=football_data.where(football_data['team']=='Real Madrid ')\n",
    "realmadrid=realmadrid.dropna(axis=0)"
   ]
  },
  {
   "cell_type": "code",
   "execution_count": 42,
   "metadata": {},
   "outputs": [
    {
     "data": {
      "text/html": [
       "<div>\n",
       "<style scoped>\n",
       "    .dataframe tbody tr th:only-of-type {\n",
       "        vertical-align: middle;\n",
       "    }\n",
       "\n",
       "    .dataframe tbody tr th {\n",
       "        vertical-align: top;\n",
       "    }\n",
       "\n",
       "    .dataframe thead th {\n",
       "        text-align: right;\n",
       "    }\n",
       "</style>\n",
       "<table border=\"1\" class=\"dataframe\">\n",
       "  <thead>\n",
       "    <tr style=\"text-align: right;\">\n",
       "      <th></th>\n",
       "      <th>player_id</th>\n",
       "      <th>name</th>\n",
       "      <th>nationality</th>\n",
       "      <th>position</th>\n",
       "      <th>overall</th>\n",
       "      <th>age</th>\n",
       "      <th>hits</th>\n",
       "      <th>potential</th>\n",
       "      <th>team</th>\n",
       "    </tr>\n",
       "  </thead>\n",
       "  <tbody>\n",
       "    <tr>\n",
       "      <th>0</th>\n",
       "      <td>158023.0</td>\n",
       "      <td>Lionel Messi</td>\n",
       "      <td>Argentina</td>\n",
       "      <td>ST|CF|RW</td>\n",
       "      <td>94.0</td>\n",
       "      <td>33.0</td>\n",
       "      <td>299.0</td>\n",
       "      <td>94.0</td>\n",
       "      <td>FC Barcelona</td>\n",
       "    </tr>\n",
       "    <tr>\n",
       "      <th>11</th>\n",
       "      <td>192448.0</td>\n",
       "      <td>Marc-André ter Stegen</td>\n",
       "      <td>Germany</td>\n",
       "      <td>GK</td>\n",
       "      <td>90.0</td>\n",
       "      <td>28.0</td>\n",
       "      <td>68.0</td>\n",
       "      <td>93.0</td>\n",
       "      <td>FC Barcelona</td>\n",
       "    </tr>\n",
       "    <tr>\n",
       "      <th>16</th>\n",
       "      <td>194765.0</td>\n",
       "      <td>Antoine Griezmann</td>\n",
       "      <td>France</td>\n",
       "      <td>ST|CF|LW</td>\n",
       "      <td>89.0</td>\n",
       "      <td>29.0</td>\n",
       "      <td>66.0</td>\n",
       "      <td>89.0</td>\n",
       "      <td>FC Barcelona</td>\n",
       "    </tr>\n",
       "    <tr>\n",
       "      <th>19</th>\n",
       "      <td>176580.0</td>\n",
       "      <td>Luis Suárez</td>\n",
       "      <td>Uruguay</td>\n",
       "      <td>ST</td>\n",
       "      <td>89.0</td>\n",
       "      <td>33.0</td>\n",
       "      <td>54.0</td>\n",
       "      <td>89.0</td>\n",
       "      <td>FC Barcelona</td>\n",
       "    </tr>\n",
       "    <tr>\n",
       "      <th>29</th>\n",
       "      <td>189511.0</td>\n",
       "      <td>Sergio Busquets</td>\n",
       "      <td>Spain</td>\n",
       "      <td>CDM</td>\n",
       "      <td>88.0</td>\n",
       "      <td>32.0</td>\n",
       "      <td>34.0</td>\n",
       "      <td>88.0</td>\n",
       "      <td>FC Barcelona</td>\n",
       "    </tr>\n",
       "  </tbody>\n",
       "</table>\n",
       "</div>"
      ],
      "text/plain": [
       "    player_id                   name nationality  position  overall   age  \\\n",
       "0    158023.0           Lionel Messi   Argentina  ST|CF|RW     94.0  33.0   \n",
       "11   192448.0  Marc-André ter Stegen     Germany        GK     90.0  28.0   \n",
       "16   194765.0      Antoine Griezmann      France  ST|CF|LW     89.0  29.0   \n",
       "19   176580.0            Luis Suárez     Uruguay        ST     89.0  33.0   \n",
       "29   189511.0        Sergio Busquets       Spain       CDM     88.0  32.0   \n",
       "\n",
       "     hits  potential           team  \n",
       "0   299.0       94.0  FC Barcelona   \n",
       "11   68.0       93.0  FC Barcelona   \n",
       "16   66.0       89.0  FC Barcelona   \n",
       "19   54.0       89.0  FC Barcelona   \n",
       "29   34.0       88.0  FC Barcelona   "
      ]
     },
     "execution_count": 42,
     "metadata": {},
     "output_type": "execute_result"
    }
   ],
   "source": [
    "fcbarcelona.head()"
   ]
  },
  {
   "cell_type": "code",
   "execution_count": 43,
   "metadata": {},
   "outputs": [
    {
     "data": {
      "text/plain": [
       "overall      2577.0\n",
       "age           845.0\n",
       "hits         1688.0\n",
       "potential    2781.0\n",
       "dtype: float64"
      ]
     },
     "execution_count": 43,
     "metadata": {},
     "output_type": "execute_result"
    }
   ],
   "source": [
    "fcbarsa=fcbarcelona[['overall','age','hits','potential']].sum()\n",
    "fcbarsa"
   ]
  },
  {
   "cell_type": "code",
   "execution_count": 44,
   "metadata": {},
   "outputs": [
    {
     "data": {
      "text/plain": [
       "overall      2627.0\n",
       "age           845.0\n",
       "hits         1195.0\n",
       "potential    2815.0\n",
       "dtype: float64"
      ]
     },
     "execution_count": 44,
     "metadata": {},
     "output_type": "execute_result"
    }
   ],
   "source": [
    "rm=realmadrid[['overall','age','hits','potential']].sum()\n",
    "rm"
   ]
  },
  {
   "cell_type": "code",
   "execution_count": 45,
   "metadata": {},
   "outputs": [
    {
     "data": {
      "image/png": "[encoded data removed]",
      "text/plain": [
       "<Figure size 864x432 with 1 Axes>"
      ]
     },
     "metadata": {
      "needs_background": "light"
     },
     "output_type": "display_data"
    }
   ],
   "source": [
    "plt.plot(rm.keys(),rm,'s-b')\n",
    "plt.plot(rm.keys(),fcbarsa, 'o--r')\n",
    "plt.title('Real Madrid Vs FC Barcelona')\n",
    "plt.xlabel('Different Parameter')\n",
    "plt.ylabel('Points')\n",
    "plt.legend(['Real Madrid','FC Barcelona']);"
   ]
  },
  {
   "attachments": {},
   "cell_type": "markdown",
   "metadata": {},
   "source": [
    "![](https://okdiario.com/img/2016/04/barcelona-vs-real-madrid.png)"
   ]
  },
  {
   "cell_type": "markdown",
   "metadata": {},
   "source": [
    "From the above graphs and data we are comparing the `Real Madrid` and `FC Barcelona` team. In `overall` perfomance it's clear that `Real Madrid` is better than `FC Barcelona` but when it's come to comparing the `hits` the players have kick. `FC Barcelona` is leading ahead than `Real Madrid`. "
   ]
  },
  {
   "cell_type": "markdown",
   "metadata": {},
   "source": [
    "## Who is the best player of FIFA21?"
   ]
  },
  {
   "cell_type": "code",
   "execution_count": 80,
   "metadata": {},
   "outputs": [
    {
     "data": {
      "text/html": [
       "<div>\n",
       "<style scoped>\n",
       "    .dataframe tbody tr th:only-of-type {\n",
       "        vertical-align: middle;\n",
       "    }\n",
       "\n",
       "    .dataframe tbody tr th {\n",
       "        vertical-align: top;\n",
       "    }\n",
       "\n",
       "    .dataframe thead th {\n",
       "        text-align: right;\n",
       "    }\n",
       "</style>\n",
       "<table border=\"1\" class=\"dataframe\">\n",
       "  <thead>\n",
       "    <tr style=\"text-align: right;\">\n",
       "      <th></th>\n",
       "      <th>player_id</th>\n",
       "      <th>name</th>\n",
       "      <th>nationality</th>\n",
       "      <th>position</th>\n",
       "      <th>overall</th>\n",
       "      <th>age</th>\n",
       "      <th>hits</th>\n",
       "      <th>potential</th>\n",
       "      <th>team</th>\n",
       "    </tr>\n",
       "  </thead>\n",
       "  <tbody>\n",
       "    <tr>\n",
       "      <th>0</th>\n",
       "      <td>158023</td>\n",
       "      <td>Lionel Messi</td>\n",
       "      <td>Argentina</td>\n",
       "      <td>ST|CF|RW</td>\n",
       "      <td>94</td>\n",
       "      <td>33</td>\n",
       "      <td>299</td>\n",
       "      <td>94</td>\n",
       "      <td>FC Barcelona</td>\n",
       "    </tr>\n",
       "    <tr>\n",
       "      <th>1</th>\n",
       "      <td>20801</td>\n",
       "      <td>Cristiano Ronaldo</td>\n",
       "      <td>Portugal</td>\n",
       "      <td>ST|LW</td>\n",
       "      <td>93</td>\n",
       "      <td>35</td>\n",
       "      <td>276</td>\n",
       "      <td>93</td>\n",
       "      <td>Juventus</td>\n",
       "    </tr>\n",
       "    <tr>\n",
       "      <th>2</th>\n",
       "      <td>190871</td>\n",
       "      <td>Neymar Jr</td>\n",
       "      <td>Brazil</td>\n",
       "      <td>CAM|LW</td>\n",
       "      <td>92</td>\n",
       "      <td>28</td>\n",
       "      <td>186</td>\n",
       "      <td>92</td>\n",
       "      <td>Paris Saint-Germain</td>\n",
       "    </tr>\n",
       "    <tr>\n",
       "      <th>3</th>\n",
       "      <td>203376</td>\n",
       "      <td>Virgil van Dijk</td>\n",
       "      <td>Netherlands</td>\n",
       "      <td>CB</td>\n",
       "      <td>91</td>\n",
       "      <td>29</td>\n",
       "      <td>127</td>\n",
       "      <td>92</td>\n",
       "      <td>Liverpool</td>\n",
       "    </tr>\n",
       "    <tr>\n",
       "      <th>4</th>\n",
       "      <td>200389</td>\n",
       "      <td>Jan Oblak</td>\n",
       "      <td>Slovenia</td>\n",
       "      <td>GK</td>\n",
       "      <td>91</td>\n",
       "      <td>27</td>\n",
       "      <td>47</td>\n",
       "      <td>93</td>\n",
       "      <td>Atlético Madrid</td>\n",
       "    </tr>\n",
       "    <tr>\n",
       "      <th>...</th>\n",
       "      <td>...</td>\n",
       "      <td>...</td>\n",
       "      <td>...</td>\n",
       "      <td>...</td>\n",
       "      <td>...</td>\n",
       "      <td>...</td>\n",
       "      <td>...</td>\n",
       "      <td>...</td>\n",
       "      <td>...</td>\n",
       "    </tr>\n",
       "    <tr>\n",
       "      <th>17967</th>\n",
       "      <td>256329</td>\n",
       "      <td>Hassan Al Shamrani</td>\n",
       "      <td>Saudi Arabia</td>\n",
       "      <td>CB|CDM</td>\n",
       "      <td>56</td>\n",
       "      <td>29</td>\n",
       "      <td>0</td>\n",
       "      <td>57</td>\n",
       "      <td>Damac FC</td>\n",
       "    </tr>\n",
       "    <tr>\n",
       "      <th>17965</th>\n",
       "      <td>256436</td>\n",
       "      <td>Erland Tangvik</td>\n",
       "      <td>Norway</td>\n",
       "      <td>GK</td>\n",
       "      <td>56</td>\n",
       "      <td>23</td>\n",
       "      <td>0</td>\n",
       "      <td>63</td>\n",
       "      <td>Djurgårdens IF</td>\n",
       "    </tr>\n",
       "    <tr>\n",
       "      <th>17964</th>\n",
       "      <td>256445</td>\n",
       "      <td>Ruvira</td>\n",
       "      <td>Spain</td>\n",
       "      <td>GK</td>\n",
       "      <td>56</td>\n",
       "      <td>20</td>\n",
       "      <td>0</td>\n",
       "      <td>70</td>\n",
       "      <td>CF Fuenlabrada</td>\n",
       "    </tr>\n",
       "    <tr>\n",
       "      <th>17963</th>\n",
       "      <td>256469</td>\n",
       "      <td>Juan Camilo Suárez</td>\n",
       "      <td>Colombia</td>\n",
       "      <td>CB</td>\n",
       "      <td>56</td>\n",
       "      <td>21</td>\n",
       "      <td>0</td>\n",
       "      <td>63</td>\n",
       "      <td>Envigado FC</td>\n",
       "    </tr>\n",
       "    <tr>\n",
       "      <th>17980</th>\n",
       "      <td>256072</td>\n",
       "      <td>Luis Peña</td>\n",
       "      <td>Venezuela</td>\n",
       "      <td>CM</td>\n",
       "      <td>56</td>\n",
       "      <td>18</td>\n",
       "      <td>0</td>\n",
       "      <td>69</td>\n",
       "      <td>Zamora Fútbol Club</td>\n",
       "    </tr>\n",
       "  </tbody>\n",
       "</table>\n",
       "<p>17981 rows × 9 columns</p>\n",
       "</div>"
      ],
      "text/plain": [
       "       player_id                name   nationality  position  overall  age  \\\n",
       "0         158023        Lionel Messi     Argentina  ST|CF|RW       94   33   \n",
       "1          20801   Cristiano Ronaldo      Portugal     ST|LW       93   35   \n",
       "2         190871           Neymar Jr        Brazil    CAM|LW       92   28   \n",
       "3         203376     Virgil van Dijk   Netherlands        CB       91   29   \n",
       "4         200389           Jan Oblak      Slovenia        GK       91   27   \n",
       "...          ...                 ...           ...       ...      ...  ...   \n",
       "17967     256329  Hassan Al Shamrani  Saudi Arabia    CB|CDM       56   29   \n",
       "17965     256436      Erland Tangvik        Norway        GK       56   23   \n",
       "17964     256445              Ruvira         Spain        GK       56   20   \n",
       "17963     256469  Juan Camilo Suárez      Colombia        CB       56   21   \n",
       "17980     256072           Luis Peña     Venezuela        CM       56   18   \n",
       "\n",
       "       hits  potential                  team  \n",
       "0       299         94         FC Barcelona   \n",
       "1       276         93             Juventus   \n",
       "2       186         92  Paris Saint-Germain   \n",
       "3       127         92            Liverpool   \n",
       "4        47         93      Atlético Madrid   \n",
       "...     ...        ...                   ...  \n",
       "17967     0         57             Damac FC   \n",
       "17965     0         63       Djurgårdens IF   \n",
       "17964     0         70       CF Fuenlabrada   \n",
       "17963     0         63          Envigado FC   \n",
       "17980     0         69   Zamora Fútbol Club   \n",
       "\n",
       "[17981 rows x 9 columns]"
      ]
     },
     "execution_count": 80,
     "metadata": {},
     "output_type": "execute_result"
    }
   ],
   "source": [
    "best_player=football_data.sort_values('overall',ascending=False)\n",
    "best_player"
   ]
  },
  {
   "attachments": {},
   "cell_type": "markdown",
   "metadata": {},
   "source": [
    "![](https://www.si.com/.image/t_share/MTY4MTAyMjcxMTg5MTMyNjcy/lionel-messi-barcelona-tax-fraudjpg.jpg)"
   ]
  },
  {
   "cell_type": "markdown",
   "metadata": {},
   "source": [
    "Since, `Lionel Messi` from Argentina have higest overall perfomance and hits. So, He is the best player of `FIFA21`."
   ]
  },
  {
   "cell_type": "markdown",
   "metadata": {},
   "source": [
    "## Hence, As per above data Real Madrid is best team."
   ]
  },
  {
   "cell_type": "code",
   "execution_count": 81,
   "metadata": {},
   "outputs": [
    {
     "data": {
      "application/javascript": [
       "window.require && require([\"base/js/namespace\"],function(Jupyter){Jupyter.notebook.save_checkpoint()})"
      ],
      "text/plain": [
       "<IPython.core.display.Javascript object>"
      ]
     },
     "metadata": {},
     "output_type": "display_data"
    },
    {
     "name": "stdout",
     "output_type": "stream",
     "text": [
      "[jovian] Attempting to save notebook..\u001b[0m\n",
      "[jovian] Updating notebook \"aaarif796/football-analysis\" on https://jovian.ai\u001b[0m\n",
      "[jovian] Uploading notebook..\u001b[0m\n",
      "[jovian] Uploading additional files...\u001b[0m\n",
      "[jovian] Committed successfully! https://jovian.ai/aaarif796/football-analysis\u001b[0m\n"
     ]
    },
    {
     "data": {
      "text/plain": [
       "'https://jovian.ai/aaarif796/football-analysis'"
      ]
     },
     "execution_count": 81,
     "metadata": {},
     "output_type": "execute_result"
    }
   ],
   "source": [
    "jovian.commit(project_name)"
   ]
  },
  {
   "cell_type": "code",
   "execution_count": 82,
   "metadata": {},
   "outputs": [
    {
     "data": {
      "application/javascript": [
       "window.require && require([\"base/js/namespace\"],function(Jupyter){Jupyter.notebook.save_checkpoint()})"
      ],
      "text/plain": [
       "<IPython.core.display.Javascript object>"
      ]
     },
     "metadata": {},
     "output_type": "display_data"
    },
    {
     "name": "stdout",
     "output_type": "stream",
     "text": [
      "[jovian] Attempting to save notebook..\u001b[0m\n",
      "[jovian] Updating notebook \"aaarif796/football-analysis\" on https://jovian.ai\u001b[0m\n",
      "[jovian] Uploading notebook..\u001b[0m\n",
      "[jovian] Uploading additional files...\u001b[0m\n",
      "[jovian] Committed successfully! https://jovian.ai/aaarif796/football-analysis\u001b[0m\n"
     ]
    },
    {
     "data": {
      "text/plain": [
       "'https://jovian.ai/aaarif796/football-analysis'"
      ]
     },
     "execution_count": 82,
     "metadata": {},
     "output_type": "execute_result"
    }
   ],
   "source": [
    "jovian.commit()"
   ]
  },
  {
   "cell_type": "code",
   "execution_count": 83,
   "metadata": {},
   "outputs": [
    {
     "data": {
      "application/javascript": [
       "window.require && require([\"base/js/namespace\"],function(Jupyter){Jupyter.notebook.save_checkpoint()})"
      ],
      "text/plain": [
       "<IPython.core.display.Javascript object>"
      ]
     },
     "metadata": {},
     "output_type": "display_data"
    },
    {
     "name": "stdout",
     "output_type": "stream",
     "text": [
      "[jovian] Attempting to save notebook..\u001b[0m\n",
      "[jovian] Updating notebook \"aaarif796/football-analysis\" on https://jovian.ai\u001b[0m\n",
      "[jovian] Uploading notebook..\u001b[0m\n",
      "[jovian] Uploading additional files...\u001b[0m\n",
      "[jovian] Committed successfully! https://jovian.ai/aaarif796/football-analysis\u001b[0m\n",
      "[jovian] Submitting assignment..\u001b[0m\n",
      "[jovian] Verify your submission at https://jovian.ai/learn/data-analysis-with-python-zero-to-pandas/assignment/course-project\u001b[0m\n"
     ]
    }
   ],
   "source": [
    "jovian.submit(assignment=\"zero-to-pandas-project\")"
   ]
  },
  {
   "cell_type": "code",
   "execution_count": null,
   "metadata": {},
   "outputs": [],
   "source": []
  }
 ],
 "metadata": {
  "kernelspec": {
   "display_name": "Python 3",
   "language": "python",
   "name": "python3"
  },
  "language_info": {
   "codemirror_mode": {
    "name": "ipython",
    "version": 3
   },
   "file_extension": ".py",
   "mimetype": "text/x-python",
   "name": "python",
   "nbconvert_exporter": "python",
   "pygments_lexer": "ipython3",
   "version": "3.8.6"
  }
 },
 "nbformat": 4,
 "nbformat_minor": 2
}
